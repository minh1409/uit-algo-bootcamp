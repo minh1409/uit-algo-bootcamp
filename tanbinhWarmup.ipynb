{
  "nbformat": 4,
  "nbformat_minor": 0,
  "metadata": {
    "colab": {
      "name": "tanbinhWarmup.ipynb",
      "provenance": [],
      "collapsed_sections": []
    },
    "kernelspec": {
      "name": "python3",
      "display_name": "Python 3"
    },
    "language_info": {
      "name": "python"
    }
  },
  "cells": [
    {
      "cell_type": "markdown",
      "metadata": {
        "id": "qdC-A1IksLvD"
      },
      "source": [
        "**Bài toán:**\n",
        "- Cho ma trận kích thước $nm$, tìm ma trận con kích thước 3*3 có tổng lớn nhất\n",
        "\n",
        "**Giải thuật:**\n",
        "- Duyệt từng tự từng ma trận con và tính tổng của chúng lại để so sánh\n",
        "- Có thể sử dụng tổng tiền tố để tối ưu hóa việc tính tổng"
      ]
    },
    {
      "cell_type": "code",
      "metadata": {
        "id": "Y0DrEkbbsM17"
      },
      "source": [
        "n, m = map(int, input().split())\n",
        "\n",
        "a = []\n",
        "\n",
        "for i in range(0, n):\n",
        "    tmp = list(map(int, input().split()))\n",
        "    a.append(tmp)\n",
        "\n",
        "res = 1e6\n",
        "for i in range(0, n - 2):\n",
        "    for j in range(0, m - 2):\n",
        "        curSum = 0\n",
        "        for u in range(i, i + 3):\n",
        "            for v in range(j, j + 3):\n",
        "                curSum += a[u][v]\n",
        "        res = min(res, curSum)\n",
        "\n",
        "print(res)"
      ],
      "execution_count": null,
      "outputs": []
    },
    {
      "cell_type": "markdown",
      "metadata": {
        "id": "TkZTzf9jsNHr"
      },
      "source": [
        "**Bài toán:**\n",
        "- Tối thiểu hóa thời gian tàu chạy từ ga A đến ga B $t1+t2+t3$ biết $AB = d, d = a1^2t1+a1t1t2+a1t1t3-a2^2t3, a1t1<=v, t2<t$\n",
        "\n",
        "**Giải thuật:**\n",
        "- Ta tìm được t2, t3 nếu biết t1\n",
        "- Viết lại công thức theo t1\n",
        "- Giải bất phương trình"
      ]
    },
    {
      "cell_type": "code",
      "metadata": {
        "id": "HRRsJo7lsNSz"
      },
      "source": [
        "import math\n",
        "d, a1, a2, v, t = map(float, input().split())\n",
        "a = 1/(2*a1) + 1/(2*a2)\n",
        "x1 = (-t + math.sqrt(t*t + 4*a*d))/(2*a)\n",
        "if x1 <= v:\n",
        "    ans = x1 / a1 + t + x1 / a2\n",
        "else:\n",
        "    ans = v / (2*a1) + v /(2*a2) + d / v\n",
        "print (round(ans,12))"
      ],
      "execution_count": null,
      "outputs": []
    },
    {
      "cell_type": "markdown",
      "metadata": {
        "id": "KMPkzWTYsNbr"
      },
      "source": [
        "**Bài toán:**\n",
        "- Cho n, x, a[]. \n",
        "- Đặt $a'[i] =\t\\sum (1<=j<=i)a[j]$ khi $1<=i<=n$.\n",
        "- $a'[i] = a'[n]+(i-n)*a[n]$ khi i>n\n",
        "- $ n = a'[1]*k[1] + a'[2]*k[2] +...+a'[x]*k[x], k[i]>=0 \t\\forall i$\n",
        "- Tối thiểu hóa $\\sum k[i] - 1$\n",
        "\n",
        "**Giải thuật:**\n",
        "- Bài toán trên có thể duyệt lần lượt từng trường hợp tối thiểu\n",
        "- Nhận thấy bài toán tối thiểu hóa $\\sum k[i] - 1$ với $n = k$ có thể giải quyết bằng các bài toán tối thiểu hóa $\\sum k[i] - x, 1<=x<=n$ với $n = k - 1$, ta có thể lưu lại các bài toán con trên\n",
        "- Gọi bài toán tối thiểu hóa $\\sum k[i]$ với $n = k$ là $f(k)$, ta có $f(k) = \\min (i>=0, n-a'[i]>=0)(f(n-a'[i]) + i)$\n",
        "- Kết quả bài toán tối thiểu hóa $\\sum k[i] - 1$ với $n = k$ là $f(k) - 1$"
      ]
    },
    {
      "cell_type": "code",
      "metadata": {
        "id": "BxDT_ZgZsNkD"
      },
      "source": [
        "import numpy as np\n",
        "n, x = map(int, input().split())\n",
        "tto = list(map(int, input().split()))\n",
        "last = tto[n-1];\n",
        "mdp = []\n",
        "for i in range(1,n):\n",
        "  tto[i] = tto[i] + tto[i-1]\n",
        "mdp.append(0)\n",
        "for i in range(1,x+1):\n",
        "  if (((i-tto[n-1])%last==0) and (i>=tto[n-1])):\n",
        "    mdp.append(((i-tto[n-1])/last) + n + 1)\n",
        "  else:\n",
        "    mdp.append(1000005)\n",
        "for i in range(1,x+1):\n",
        "  for j in range(1,n):\n",
        "    if (i>=tto[j]):\n",
        "      mdp[i] = min(mdp[i],mdp[i-tto[j]]+j+2)\n",
        "    else:\n",
        "      break\n",
        "kq = mdp[x]\n",
        "if (kq>=1000002):\n",
        "  print(-1)\n",
        "else:\n",
        "  print(kq-1)"
      ],
      "execution_count": null,
      "outputs": []
    }
  ]
}
